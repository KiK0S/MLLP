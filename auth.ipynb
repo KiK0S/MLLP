{
 "cells": [
  {
   "cell_type": "code",
   "execution_count": 1,
   "metadata": {},
   "outputs": [],
   "source": [
    "import numpy as np\n",
    "import matplotlib.pyplot as plt\n",
    "import soundfile as sf\n",
    "import sounddevice as sd\n",
    "import math\n",
    "import time\n",
    "import cmath\n",
    "import sys\n",
    "import os\n",
    "import random\n",
    "import tabletext"
   ]
  },
  {
   "cell_type": "markdown",
   "metadata": {},
   "source": [
    "# Что происходит в этом файле\n",
    "\n",
    "Голосовая идентификация.\n",
    "\n",
    "А именно, к концу этого файла создается функция, которая выдает \"похожесть\" двух записей друг на друга относительно источника.\n",
    "Чтобы записи были хорошо похожи друг на друга, лучше произносить одну и ту же фразу.\n",
    "\n",
    "Процесс:\n",
    "\n",
    "1. Запись голоса (чтение готового файла)\n",
    "2. Выделяем несколько фрагментов, которые будем анализировать (такие, на которых заметны колебания, то есть что-то говорят\n",
    "3. Выполняем спектральный анализ с помощью быстрого преобразования Фурье для выделения амплитуд в голосе (иначе говоря, раскладываем на частоты)\n",
    "4. Выделяем топ пиков (самые высокие локальные максимумы, а для каждой частоты пика запоминаем амплитуду.\n",
    "5. Склеиваем этот топ пиков по всем фрагментам (считаем динамическое программирование с разбиением точек на K групп, где группой считается блок из точек с разницей не более 50 герц друг от друга), оптимизируется функция $$\\displaystyle \\sum_{i=1}^n \\frac{amp_i}{1.05^{|x_i - center(x_i)|}}$$\n",
    "6. Получаем вектор, который отвечает за то, какими частотами (усредненными) характеризуется голос\n",
    "7. Чтобы сравнить два метода, используем расстояние Левенштейна, адаптированное под вещественные последовательности"
   ]
  },
  {
   "cell_type": "code",
   "execution_count": 2,
   "metadata": {},
   "outputs": [],
   "source": [
    "fs = 44100\n",
    "PARAMETERS = {\n",
    "    \"sample_length\": 0.10,\n",
    "    \"record_length\": 2,\n",
    "    \"peaks\": 25,\n",
    "    \"output_dim\": 20,\n",
    "    \"exp\": 1.05,\n",
    "    \"peak_criterion\": 3,\n",
    "    \"delta\": 0.1,\n",
    "    \"penalty\": 100,\n",
    "    'iterations': 15,\n",
    "    'pts_diff': 5,\n",
    "    'group': 50\n",
    "}"
   ]
  },
  {
   "cell_type": "code",
   "execution_count": 3,
   "metadata": {},
   "outputs": [],
   "source": [
    "def read(name):\n",
    "    n_data = sf.read('auth/' + name + '_voice.wav')[0] # if use this, use n_data[0]\n",
    "    sd.play(n_data, fs)\n",
    "    sd.wait()\n",
    "    return list(n_data)\n",
    "\n",
    "def record(name):\n",
    "    global PARAMETERS\n",
    "    print('record')\n",
    "    n_data = sd.rec(PARAMETERS[\"record_length\"] * fs, samplerate=fs, channels=1)\n",
    "    sd.wait()\n",
    "    print('play')\n",
    "    sd.play(n_data, fs)\n",
    "    sd.wait()\n",
    "    sf.write('auth/' + name + '_voice.wav', n_data, samplerate=fs);\n",
    "    return list(n_data)"
   ]
  },
  {
   "cell_type": "code",
   "execution_count": 4,
   "metadata": {},
   "outputs": [],
   "source": [
    "def normalize_result(val):\n",
    "    ln = len(val)\n",
    "    ampl = [0] * ln\n",
    "    arg = [0] * ln\n",
    "    for i in range(0, len(val)):\n",
    "        ampl[i] = abs(val[i]) / ln\n",
    "        arg[i] = val[i].imag\n",
    "    return ampl, arg"
   ]
  },
  {
   "cell_type": "code",
   "execution_count": 5,
   "metadata": {},
   "outputs": [],
   "source": [
    "'''\n",
    "slow version\n",
    " result = []\n",
    " for i in range(len(A)):\n",
    "     result.append(complex(0))\n",
    "     for j in range(len(A)):\n",
    "         result[i] += A[j] * complex(math.cos(2 * math.pi * i * j / len(A)), -math.sin(2 * math.pi * i * j / len(A)))\n",
    " return result\n",
    "'''\n",
    "def fft(A):\n",
    "    if len(A) == 1:\n",
    "        return A\n",
    "    assert len(A) % 2 == 0\n",
    "    n =\tlen(A)\n",
    "    a, b = [], []\n",
    "    for i in range(0, n):\n",
    "        if (i % 2 == 0):\n",
    "            a.append(A[i].copy())\n",
    "        else:\n",
    "            b.append(A[i].copy())\n",
    "    a = fft(a)\n",
    "    b = fft(b)\n",
    "    result = [complex(1) for _ in range(n)]\n",
    "    pw = complex(1)\n",
    "    w = complex(math.cos(2 * math.pi / n), math.sin(2 * math.pi / n))\t\n",
    "    for i in range(0, n // 2):\n",
    "        tmp = pw * b[i]\n",
    "        result[i] = a[i] + pw * b[i]\n",
    "        result[i + n // 2] = a[i] - pw * b[i]\n",
    "        pw *= w\n",
    "    return result"
   ]
  },
  {
   "cell_type": "code",
   "execution_count": 6,
   "metadata": {},
   "outputs": [],
   "source": [
    "def hamming(index, n):\n",
    "    return 0.54 - 0.46 * math.cos((2 * math.pi * index) / (n - 1))"
   ]
  },
  {
   "cell_type": "code",
   "execution_count": 7,
   "metadata": {},
   "outputs": [],
   "source": [
    "def find_peaks(arr, n, top_k=PARAMETERS[\"peaks\"]):\n",
    "    global PARAMETERS\n",
    "    assert n > 200\n",
    "    assert top_k <= n * 0.90\n",
    "    result = []\n",
    "    for i in range(int(n * 0.01), int(n * 0.99)):\n",
    "        ok = True\n",
    "        mn = arr[i]\n",
    "        for j in range(int(-n * 0.01), int(n * 0.01)):\n",
    "            idx = int(i + j)\n",
    "            mn = min(arr[i + j], mn)\n",
    "            if arr[idx] > arr[i]:\n",
    "                ok = False\n",
    "                break\n",
    "        if ok and mn * PARAMETERS[\"peak_criterion\"] < arr[i]:\n",
    "            result.append((arr[i] - mn * PARAMETERS[\"peak_criterion\"], i))\n",
    "    return sorted(result)[::-1][:top_k]"
   ]
  },
  {
   "cell_type": "code",
   "execution_count": 8,
   "metadata": {},
   "outputs": [],
   "source": [
    "def merge_similarities(arr, k = PARAMETERS[\"output_dim\"]):\n",
    "    n = len(arr)\n",
    "    result = []\n",
    "    arr.sort(key=lambda x: x[1])\n",
    "    dp = [[-10**10 for j in range(k + 1)] for i in range(n + 1)]\n",
    "    pre = [[(i - 1, i - 1, 0) for j in range(k + 1)] for i in range(n + 1)]\n",
    "    dp[0][0] = 0\n",
    "    for i in range(1, n + 1):\n",
    "        for j in range(k, 0, -1):\n",
    "            dp[i][j] = dp[i - 1][j]\n",
    "            pre[i][j] = pre[i - 1][j]\n",
    "            if dp[i][j - 1] > dp[i][j]:\n",
    "                dp[i][j] = dp[i][j - 1]\n",
    "                pre[i][j] = pre[i][j - 1]\n",
    "            l = i - 1\n",
    "            while l >= 0 and arr[i - 1][1] - arr[l][1] <= PARAMETERS['group']:\n",
    "                l -= 1\n",
    "                assert i >= 1\n",
    "            calc = 0\n",
    "            x_mean = 0\n",
    "            sm = 0\n",
    "            for f in range(l + 1, i):\n",
    "                x_mean += arr[f][0] * arr[f][1]\n",
    "                sm += arr[f][0]\n",
    "            x_mean /= sm\n",
    "            for f in range(l + 1, i):\n",
    "                calc += arr[f][0] / PARAMETERS[\"exp\"] ** (abs(arr[f][1] - x_mean))\n",
    "            if calc + dp[l][j - 1] > dp[i][j]:\n",
    "                dp[i][j] = calc + dp[l][j - 1]\n",
    "                pre[i][j] = (l, x_mean, -1)\n",
    "    fin = [n, k]\n",
    "    res = []\n",
    "    while fin[1] >= 0 and fin[0] >= 0:\n",
    "        pr = pre[fin[0]][fin[1]]\n",
    "        if pr[2] != 0:\n",
    "            res.append(pr[1])\n",
    "        fin[0] = pr[0]\n",
    "        fin[1] += pr[2]\n",
    "    return res"
   ]
  },
  {
   "cell_type": "code",
   "execution_count": 9,
   "metadata": {},
   "outputs": [],
   "source": [
    "def get_vector(name, iterations=PARAMETERS['iterations'], visualize=False):\n",
    "    data = np.array(read(name))\n",
    "    if visualize:\n",
    "        plt.plot(data)\n",
    "        plt.show()\n",
    "    ln = len(data)\n",
    "    new_ln = 1\n",
    "    while new_ln < fs * PARAMETERS[\"sample_length\"]:\n",
    "        new_ln *= 2\n",
    "    peaks = []\n",
    "    for start_idx in range(iterations):\n",
    "        start = random.randint(0, len(data) - new_ln)\n",
    "        np_data = np.array(data)[start:start + new_ln]\n",
    "        while True:\n",
    "            if np_data.max() - np_data.min() > PARAMETERS[\"delta\"]:\n",
    "                break\n",
    "            start = random.randint(0, len(data) - new_ln)\n",
    "            np_data = np.array(data)[start:start + new_ln]\n",
    "           \n",
    "        np_data = fft(np_data)\n",
    "        for i in range(len(np_data)):\n",
    "            np_data[i] *= hamming(i, len(np_data))\n",
    "        ampl, arg = normalize_result(np_data)\n",
    "        \n",
    "        '''\n",
    "        to scale array\n",
    "        '''\n",
    "        def get(arr, idx):\n",
    "            k = PARAMETERS[\"sample_length\"] * 2\n",
    "            if int(idx * k) == idx * k:\n",
    "                return arr[int(idx * k)]\n",
    "            diff = idx * k - int(idx * k)\n",
    "            return arr[int(idx * k)] * diff + arr[int(idx * k) + 1] * (1 - diff)\n",
    "        \n",
    "        res = [get(ampl, i) for i in range(5000)]\n",
    "        if visualize:\n",
    "            plt.plot(res, alpha=0.5)\n",
    "        peaks.extend(find_peaks(res, len(res)))\n",
    "    if visualize:\n",
    "        plt.show()\n",
    "    return merge_similarities(peaks)"
   ]
  },
  {
   "cell_type": "code",
   "execution_count": 10,
   "metadata": {},
   "outputs": [
    {
     "data": {
      "text/plain": [
       "[4520.335901263482,\n",
       " 4373.697804941869,\n",
       " 4096.172546370104,\n",
       " 3916.6672946040967,\n",
       " 3835.5785543150087,\n",
       " 3779.5585572375294,\n",
       " 3690.646137131692,\n",
       " 3617.911682648064,\n",
       " 3513.2002816241716,\n",
       " 3413.47574463024,\n",
       " 3292.6246272402154,\n",
       " 3219.043558258989,\n",
       " 908.9260447257794,\n",
       " 811.3144107240264,\n",
       " 677.7744129932518,\n",
       " 457.54091752997743,\n",
       " 409.9870544050689,\n",
       " 311.03738657213944,\n",
       " 269.1867316808703,\n",
       " 144.05885265994667]"
      ]
     },
     "execution_count": 10,
     "metadata": {},
     "output_type": "execute_result"
    }
   ],
   "source": [
    "get_vector('kostya', 10)"
   ]
  },
  {
   "cell_type": "code",
   "execution_count": 11,
   "metadata": {
    "scrolled": false
   },
   "outputs": [
    {
     "data": {
      "text/plain": [
       "[3589.798003097965,\n",
       " 3534.0617930459007,\n",
       " 3396.056630014393,\n",
       " 3279.4937401431807,\n",
       " 3157.164296957356,\n",
       " 3088.7029515252143,\n",
       " 3018.9222028575978,\n",
       " 2372.9780952123006,\n",
       " 1671.343445983293,\n",
       " 1441.0104702220292,\n",
       " 1383.9154157598632,\n",
       " 1070.4170777637912,\n",
       " 932.9435932032438,\n",
       " 819.8860101344906,\n",
       " 736.3130240414297,\n",
       " 610.150672305322,\n",
       " 433.0924855926702,\n",
       " 354.76216092267106,\n",
       " 239.06434156326824,\n",
       " 142.64433368785694]"
      ]
     },
     "execution_count": 11,
     "metadata": {},
     "output_type": "execute_result"
    }
   ],
   "source": [
    "get_vector('dima', 10)"
   ]
  },
  {
   "cell_type": "code",
   "execution_count": 12,
   "metadata": {},
   "outputs": [],
   "source": [
    "def score(a, b):\n",
    "    assert(len(a) == len(b))\n",
    "    n = len(a)\n",
    "    dp = [[10 ** 10 for i in range(n + 1)] for j in range(n + 1)]\n",
    "    dp[0][0] = 0\n",
    "    penalty = PARAMETERS['penalty']\n",
    "    for i in range(n + 1):\n",
    "        for j in range(n + 1):\n",
    "            if i == 0 and j == 0:\n",
    "                continue\n",
    "            if i == 0:\n",
    "                dp[i][j] = dp[i][j - 1] + penalty\n",
    "            elif j == 0:\n",
    "                dp[i][j] = dp[i - 1][j] + penalty\n",
    "            else:\n",
    "                dp[i][j]= min(min(dp[i - 1][j], dp[i][j - 1]) + penalty, dp[i - 1][j - 1] + abs(a[i - 1] - b[j - 1]) * PARAMETERS['pts_diff'])\n",
    "    return dp[n][n]"
   ]
  },
  {
   "cell_type": "code",
   "execution_count": 13,
   "metadata": {},
   "outputs": [
    {
     "data": {
      "text/plain": [
       "2864.3500625804672"
      ]
     },
     "execution_count": 13,
     "metadata": {},
     "output_type": "execute_result"
    }
   ],
   "source": [
    "score(get_vector('kostya'), get_vector('dima'))"
   ]
  },
  {
   "cell_type": "code",
   "execution_count": 14,
   "metadata": {},
   "outputs": [
    {
     "data": {
      "text/plain": [
       "1753.2502825995616"
      ]
     },
     "execution_count": 14,
     "metadata": {},
     "output_type": "execute_result"
    }
   ],
   "source": [
    "score(get_vector('kostya'), get_vector('kostya'))"
   ]
  },
  {
   "cell_type": "code",
   "execution_count": 15,
   "metadata": {},
   "outputs": [
    {
     "data": {
      "text/plain": [
       "1517.562833857663"
      ]
     },
     "execution_count": 15,
     "metadata": {},
     "output_type": "execute_result"
    }
   ],
   "source": [
    "score(get_vector('kostya', 10), get_vector('kostya', 10))"
   ]
  },
  {
   "cell_type": "code",
   "execution_count": 16,
   "metadata": {},
   "outputs": [
    {
     "data": {
      "text/plain": [
       "3118.614625210423"
      ]
     },
     "execution_count": 16,
     "metadata": {},
     "output_type": "execute_result"
    }
   ],
   "source": [
    "score(get_vector('kostya'), get_vector('roman'))"
   ]
  },
  {
   "cell_type": "code",
   "execution_count": 17,
   "metadata": {},
   "outputs": [
    {
     "data": {
      "text/plain": [
       "3140.055201103294"
      ]
     },
     "execution_count": 17,
     "metadata": {},
     "output_type": "execute_result"
    }
   ],
   "source": [
    "score(get_vector('dima'), get_vector('roman'))"
   ]
  },
  {
   "cell_type": "code",
   "execution_count": 18,
   "metadata": {},
   "outputs": [
    {
     "data": {
      "text/plain": [
       "3405.298336875361"
      ]
     },
     "execution_count": 18,
     "metadata": {},
     "output_type": "execute_result"
    }
   ],
   "source": [
    "score(get_vector('kostya'), get_vector('kostya_2021'))"
   ]
  },
  {
   "cell_type": "code",
   "execution_count": 19,
   "metadata": {},
   "outputs": [],
   "source": [
    "# record('lucy_houses')"
   ]
  },
  {
   "cell_type": "code",
   "execution_count": 20,
   "metadata": {
    "scrolled": false
   },
   "outputs": [],
   "source": [
    "# record('lucy_paint')"
   ]
  },
  {
   "cell_type": "code",
   "execution_count": 21,
   "metadata": {},
   "outputs": [],
   "source": [
    "# record('kostya_houses')"
   ]
  },
  {
   "cell_type": "code",
   "execution_count": 22,
   "metadata": {},
   "outputs": [],
   "source": [
    "# record('kostya_paint')"
   ]
  },
  {
   "cell_type": "code",
   "execution_count": 23,
   "metadata": {},
   "outputs": [],
   "source": [
    "names = ['lucy_paint', 'lucy_houses', 'kostya_paint', 'kostya_houses']\n",
    "result = []\n",
    "for a in names:\n",
    "    result.append([])\n",
    "    for b in names:\n",
    "        result[-1].append(score(get_vector(a), get_vector(b)))"
   ]
  },
  {
   "cell_type": "code",
   "execution_count": 24,
   "metadata": {},
   "outputs": [
    {
     "name": "stdout",
     "output_type": "stream",
     "text": [
      "┌────────────────────┬────────────────────┬────────────────────┬────────────────────┐\n",
      "│  704.4412722543377 │ 2984.8245567850267 │ 3321.9721620685796 │  3600.735397773483 │\n",
      "├────────────────────┼────────────────────┼────────────────────┼────────────────────┤\n",
      "│  2396.964096870589 │  946.3078708385973 │ 2922.4045313887673 │ 3205.8688588424234 │\n",
      "├────────────────────┼────────────────────┼────────────────────┼────────────────────┤\n",
      "│ 3159.9488103414387 │  3096.049918085073 │ 1469.1304774091034 │ 2739.3625096002384 │\n",
      "├────────────────────┼────────────────────┼────────────────────┼────────────────────┤\n",
      "│ 3324.4298966681895 │  3452.613225093144 │  3044.874468875461 │ 1777.7080196032257 │\n",
      "└────────────────────┴────────────────────┴────────────────────┴────────────────────┘\n"
     ]
    }
   ],
   "source": [
    "print(tabletext.to_text(result))"
   ]
  },
  {
   "cell_type": "markdown",
   "metadata": {},
   "source": [
    "# Итог\n",
    "\n",
    "Я не сильно подкручивал параметры, но разница все-таки есть, непохожие друг на друга голоса имеют больший score при сравнении. Актуальны только записи kostya_houses, lucy_houses, kostya_paint, lucy_paint. Предыдущие были сделаны на другой микрофон (и качеством они хуже) и теперь непонятно, как их сравнивать"
   ]
  }
 ],
 "metadata": {
  "kernelspec": {
   "display_name": "Python 3",
   "language": "python",
   "name": "python3"
  },
  "language_info": {
   "codemirror_mode": {
    "name": "ipython",
    "version": 3
   },
   "file_extension": ".py",
   "mimetype": "text/x-python",
   "name": "python",
   "nbconvert_exporter": "python",
   "pygments_lexer": "ipython3",
   "version": "3.8.10"
  }
 },
 "nbformat": 4,
 "nbformat_minor": 4
}
