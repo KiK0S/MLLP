{
 "cells": [
  {
   "cell_type": "code",
   "execution_count": 2,
   "metadata": {},
   "outputs": [
    {
     "ename": "TypeError",
     "evalue": "unhashable type: 'list'",
     "output_type": "error",
     "traceback": [
      "\u001b[1;31m---------------------------------------------------------------------------\u001b[0m",
      "\u001b[1;31mTypeError\u001b[0m                                 Traceback (most recent call last)",
      "\u001b[1;32m<ipython-input-2-c307a63a481a>\u001b[0m in \u001b[0;36m<module>\u001b[1;34m()\u001b[0m\n\u001b[0;32m     13\u001b[0m     \u001b[1;33m[\u001b[0m\u001b[1;36m0\u001b[0m\u001b[1;33m,\u001b[0m \u001b[1;36m0\u001b[0m\u001b[1;33m,\u001b[0m \u001b[1;36m0\u001b[0m\u001b[1;33m,\u001b[0m \u001b[1;36m0\u001b[0m\u001b[1;33m,\u001b[0m \u001b[1;36m0\u001b[0m\u001b[1;33m,\u001b[0m \u001b[1;36m0\u001b[0m\u001b[1;33m,\u001b[0m \u001b[1;36m0\u001b[0m\u001b[1;33m,\u001b[0m \u001b[1;36m0\u001b[0m\u001b[1;33m,\u001b[0m \u001b[1;36m0\u001b[0m\u001b[1;33m,\u001b[0m \u001b[1;36m0\u001b[0m\u001b[1;33m,\u001b[0m \u001b[1;36m0\u001b[0m\u001b[1;33m,\u001b[0m \u001b[1;36m0\u001b[0m\u001b[1;33m]\u001b[0m\u001b[1;33m,\u001b[0m\u001b[1;33m\u001b[0m\u001b[0m\n\u001b[0;32m     14\u001b[0m     \u001b[1;33m[\u001b[0m\u001b[1;36m263\u001b[0m\u001b[1;33m,\u001b[0m \u001b[1;36m277\u001b[0m\u001b[1;33m,\u001b[0m \u001b[1;36m293\u001b[0m\u001b[1;33m,\u001b[0m \u001b[1;36m311\u001b[0m\u001b[1;33m,\u001b[0m \u001b[1;36m329\u001b[0m\u001b[1;33m,\u001b[0m \u001b[1;36m349\u001b[0m\u001b[1;33m,\u001b[0m \u001b[1;36m369\u001b[0m\u001b[1;33m,\u001b[0m \u001b[1;36m392\u001b[0m\u001b[1;33m,\u001b[0m \u001b[1;36m415\u001b[0m\u001b[1;33m,\u001b[0m \u001b[1;36m440\u001b[0m\u001b[1;33m,\u001b[0m \u001b[1;36m466\u001b[0m\u001b[1;33m,\u001b[0m \u001b[1;36m493\u001b[0m\u001b[1;33m]\u001b[0m\u001b[1;33m,\u001b[0m\u001b[1;33m\u001b[0m\u001b[0m\n\u001b[1;32m---> 15\u001b[1;33m     \u001b[1;33m[\u001b[0m\u001b[1;36m523\u001b[0m\u001b[1;33m,\u001b[0m \u001b[1;36m554\u001b[0m\u001b[1;33m,\u001b[0m \u001b[1;36m587\u001b[0m\u001b[1;33m,\u001b[0m \u001b[1;36m622\u001b[0m\u001b[1;33m,\u001b[0m \u001b[1;36m659\u001b[0m\u001b[1;33m,\u001b[0m \u001b[1;36m698\u001b[0m\u001b[1;33m,\u001b[0m \u001b[1;36m739\u001b[0m\u001b[1;33m,\u001b[0m \u001b[1;36m784\u001b[0m\u001b[1;33m,\u001b[0m \u001b[1;36m830\u001b[0m\u001b[1;33m,\u001b[0m \u001b[1;36m880\u001b[0m\u001b[1;33m,\u001b[0m \u001b[1;36m932\u001b[0m\u001b[1;33m,\u001b[0m \u001b[1;36m987\u001b[0m\u001b[1;33m]\u001b[0m\u001b[1;33m\u001b[0m\u001b[0m\n\u001b[0m\u001b[0;32m     16\u001b[0m })\n",
      "\u001b[1;31mTypeError\u001b[0m: unhashable type: 'list'"
     ]
    }
   ],
   "source": [
    "import numpy as np\n",
    "import matplotlib.pyplot as plt\n",
    "import math\n",
    "import random\n",
    "import time\n",
    "import sys\n",
    "import sounddevice as sd\n",
    "import soundfile as sf\n",
    "from pydub import AudioSegment\n",
    "fs = 44100\n",
    "onelen = 0.001\n",
    "note = np.ndarray(shape=(3, 12))[\n",
    "    [0, 0, 0, 0, 0, 0, 0, 0, 0, 0, 0, 0, 0],\n",
    "    [263, 277, 293, 311, 329, 349, 369, 392, 415, 440, 466, 493, 0],\n",
    "    [523, 554, 587, 622, 659, 698, 739, 784, 830, 880, 932, 987, 0]\n",
    "])"
   ]
  },
  {
   "cell_type": "code",
   "execution_count": 2,
   "metadata": {},
   "outputs": [],
   "source": [
    "def play(H, L, V):\n",
    "    LEN = L\n",
    "    NUM = int(LEN * H)\n",
    "    SZ = int(fs * LEN)\n",
    "    data = np.ndarray(SZ)\n",
    "    for i in range(1, SZ):\n",
    "        data[i] = V * math.sin(2 * math.pi * i * H / fs)\n",
    "    return data"
   ]
  },
  {
   "cell_type": "code",
   "execution_count": 49,
   "metadata": {},
   "outputs": [],
   "source": [
    "song = np.array([\n",
    "        392, 392, 392, 311, 466, 392, 311, 466, 392,\n",
    "        587, 587, 587, 622, 466, 369, 311, 466, 392,\n",
    "        784, 392, 392, 784, 739, 698, 659, 622, 659,\n",
    "        415, 554, 523, 493, 466, 440, 466,\n",
    "        311, 369, 311, 466, 392\n",
    "])\n",
    "\n",
    "durations = np.array([\n",
    "        350, 350, 350, 250, 100, 350, 250, 100, 700,\n",
    "        350, 350, 350, 250, 100, 350, 250, 100, 700,\n",
    "        350, 250, 100, 350, 250, 100, 100, 100, 450,\n",
    "        150, 350, 250, 100, 100, 100, 450,\n",
    "        150, 350, 250, 100, 750\n",
    "])\n"
   ]
  },
  {
   "cell_type": "code",
   "execution_count": 50,
   "metadata": {},
   "outputs": [
    {
     "name": "stdout",
     "output_type": "stream",
     "text": [
      "(474075,)\n"
     ]
    },
    {
     "data": {
      "text/plain": [
       "<_io.BufferedRandom name='star_wars.mp3'>"
      ]
     },
     "execution_count": 50,
     "metadata": {},
     "output_type": "execute_result"
    }
   ],
   "source": [
    "data = np.ndarray(0)\n",
    "for i in range(0, len(song)):\n",
    "    data=np.append(data, play(song[i], durations[i] * onelen, 1))\n",
    "sd.play(data, fs)\n",
    "sf.write(data=data, file='pink_panther.wav', samplerate=fs)\n",
    "AudioSegment.from_wav('pink_panther.wav').export('pink_panther.mp3', format='mp3')"
   ]
  },
  {
   "cell_type": "code",
   "execution_count": 51,
   "metadata": {},
   "outputs": [
    {
     "data": {
      "image/png": "[encoded data removed]",
      "text/plain": [
       "<Figure size 432x288 with 1 Axes>"
      ]
     },
     "metadata": {},
     "output_type": "display_data"
    }
   ],
   "source": [
    "fig = plt.figure()\n",
    "plt.plot(data)\n",
    "plt.show()\n",
    "\n",
    "fig.savefig('output.png')"
   ]
  },
  {
   "cell_type": "code",
   "execution_count": 47,
   "metadata": {},
   "outputs": [],
   "source": [
    "data = np.append(data, data)\n",
    "sd.play(data, fs)\n",
    "sd.wait()"
   ]
  }
 ],
 "metadata": {
  "kernelspec": {
   "display_name": "Python 3",
   "language": "python",
   "name": "python3"
  },
  "language_info": {
   "codemirror_mode": {
    "name": "ipython",
    "version": 3
   },
   "file_extension": ".py",
   "mimetype": "text/x-python",
   "name": "python",
   "nbconvert_exporter": "python",
   "pygments_lexer": "ipython3",
   "version": "3.7.0b2"
  }
 },
 "nbformat": 4,
 "nbformat_minor": 2
}
