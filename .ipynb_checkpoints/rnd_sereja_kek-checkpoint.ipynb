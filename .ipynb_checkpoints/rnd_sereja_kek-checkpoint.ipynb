{
 "cells": [
  {
   "cell_type": "code",
   "execution_count": 7,
   "metadata": {},
   "outputs": [],
   "source": [
    "import random as rnd\n",
    "def gen():\n",
    "    x = 0\n",
    "    while x < 1:\n",
    "        x += rnd.random()\n",
    "    return x"
   ]
  },
  {
   "cell_type": "code",
   "execution_count": 10,
   "metadata": {},
   "outputs": [
    {
     "name": "stdout",
     "output_type": "stream",
     "text": [
      "1.3591314673472015\n"
     ]
    }
   ],
   "source": [
    "import matplotlib.pyplot as plt\n",
    "ans = 0\n",
    "for i in range(1, 100000000):\n",
    "    ans += gen()\n",
    "ans /= 100000000\n",
    "print(ans)"
   ]
  }
 ],
 "metadata": {
  "kernelspec": {
   "display_name": "Python 3",
   "language": "python",
   "name": "python3"
  },
  "language_info": {
   "codemirror_mode": {
    "name": "ipython",
    "version": 3
   },
   "file_extension": ".py",
   "mimetype": "text/x-python",
   "name": "python",
   "nbconvert_exporter": "python",
   "pygments_lexer": "ipython3",
   "version": "3.7.0b2"
  }
 },
 "nbformat": 4,
 "nbformat_minor": 2
}
