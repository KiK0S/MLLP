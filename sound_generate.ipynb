{
 "cells": [
  {
   "cell_type": "code",
   "execution_count": 10,
   "metadata": {},
   "outputs": [],
   "source": [
    "import numpy as np\n",
    "import matplotlib.pyplot as plt\n",
    "import math\n",
    "import random\n",
    "import time\n",
    "import sys\n",
    "import sounddevice as sd\n",
    "import soundfile as sf\n",
    "from pydub import AudioSegment\n",
    "fs = 44100\n",
    "onelen = 2\n",
    "note = [\n",
    "    [0, 0, 0, 0, 0, 0, 0, 0, 0, 0, 0, 0, 0],\n",
    "    [130, 138, 147, 155, 164, 174, 185,196, 207, 220, 233, 246],\n",
    "    [263, 277, 293, 311, 329, 349, 369, 392, 415, 440, 466, 493, 0],\n",
    "    [523, 554, 587, 622, 659, 698, 739, 784, 830, 880, 932, 987, 0]\n",
    "]\n",
    "names = {\n",
    "    'c': 0,\n",
    "    'c#': 1,\n",
    "    'd': 2,\n",
    "    'd#': 3,\n",
    "    'e': 4,\n",
    "    'f': 5,\n",
    "    'f#': 6,\n",
    "    'g': 7,\n",
    "    'g#': 8,\n",
    "    'a': 9,\n",
    "    'b': 10,\n",
    "    'h': 11,\n",
    "    '-': 12\n",
    "}"
   ]
  },
  {
   "cell_type": "code",
   "execution_count": 2,
   "metadata": {},
   "outputs": [],
   "source": [
    "def play(H, L, V):\n",
    "    LEN = L\n",
    "    NUM = int(LEN * H)\n",
    "    SZ = int(fs * LEN)\n",
    "    data = np.ndarray(SZ)\n",
    "    for i in range(1, SZ):\n",
    "        data[i] = V * math.sin(2 * math.pi * i * H / fs)\n",
    "    return data"
   ]
  },
  {
   "cell_type": "code",
   "execution_count": 5,
   "metadata": {},
   "outputs": [],
   "source": [
    "song = [\n",
    "    [0, '-'], [0, '-'], [0, '-'], [0, '-'], [1, 'g'], [2, 'e'], [0, '-'], [3, 'd'],\n",
    "    [2, 'g'], [0, '-'], [1, 'g'], [2, 'e'], [3, 'd'], [2, 'g'], [3, 'c'], [2, 'h'],\n",
    "    [2, 'e'], [2, 'g'], [2, 'h'], [2, 'b'], [2, 'h'], [2, 'a'], [2, 'g'],\n",
    "    [2, 'e'], [2, 'd'], [2, 'e'], [2, 'e']\n",
    "]\n",
    "\n",
    "durations = [\n",
    "    0.25, 0.25, 0.25, 0.125, 0.125, 0.25, 0.125, 0.125, 0.25, 0.125, 0.125, 0.125, 0.125, 0.125, 0.125, 0.125, 0.125, 0.125, 0.125, 0.5, 0.0832, 0.0832, 0.0832, 0.0832, 0.0832, 0.0832, 0.5\n",
    "]\n"
   ]
  },
  {
   "cell_type": "code",
   "execution_count": 11,
   "metadata": {},
   "outputs": [
    {
     "name": "stdout",
     "output_type": "stream",
     "text": [
      "27 27\n"
     ]
    },
    {
     "data": {
      "text/plain": [
       "<_io.BufferedRandom name='pink_panther.mp3'>"
      ]
     },
     "execution_count": 11,
     "metadata": {},
     "output_type": "execute_result"
    }
   ],
   "source": [
    "data = np.ndarray(1)\n",
    "data[0] = 0\n",
    "print(len(durations), len(song))\n",
    "for i in range(0, len(song)):\n",
    "    data=np.append(data, play(note[song[i][0]][names[song[i][1]]], durations[i] * onelen, 1))\n",
    "sd.play(data, fs)\n",
    "sf.write(data=data, file='pink_panther.wav', samplerate=fs)\n",
    "AudioSegment.from_wav('pink_panther.wav').export('pink_panther.mp3', format='mp3')"
   ]
  },
  {
   "cell_type": "code",
   "execution_count": 14,
   "metadata": {},
   "outputs": [
    {
     "data": {
      "image/png": "[encoded data removed]",
      "text/plain": [
       "<Figure size 432x288 with 1 Axes>"
      ]
     },
     "metadata": {},
     "output_type": "display_data"
    }
   ],
   "source": [
    "fig = plt.figure()\n",
    "plt.plot(data)\n",
    "plt.show()\n",
    "\n",
    "fig.savefig('output.png')"
   ]
  },
  {
   "cell_type": "code",
   "execution_count": 9,
   "metadata": {},
   "outputs": [],
   "source": [
    "#data = np.append(data, data)\n",
    "sd.play(data, fs)\n",
    "sd.wait()"
   ]
  }
 ],
 "metadata": {
  "kernelspec": {
   "display_name": "Python 3",
   "language": "python",
   "name": "python3"
  },
  "language_info": {
   "codemirror_mode": {
    "name": "ipython",
    "version": 3
   },
   "file_extension": ".py",
   "mimetype": "text/x-python",
   "name": "python",
   "nbconvert_exporter": "python",
   "pygments_lexer": "ipython3",
   "version": "3.7.0b2"
  }
 },
 "nbformat": 4,
 "nbformat_minor": 2
}
