{
 "cells": [
  {
   "cell_type": "code",
   "execution_count": 2,
   "metadata": {},
   "outputs": [],
   "source": [
    "import sounddevice as sd\n",
    "import soundfile as sf\n",
    "import sys\n",
    "import time\n",
    "import numpy as np\n",
    "import pydub\n",
    "import math\n",
    "import matplotlib.pyplot as plt\n",
    "pydub.AudioSegment.converter = r\"C:\\\\Users\\\\KiKoS\\\\Downloads\\\\ffmpeg-20180429-cae6f80-win64-static\\\\ffmpeg-20180429-cae6f80-win64-static\\\\bin\\\\ffmpeg.exe\""
   ]
  },
  {
   "cell_type": "code",
   "execution_count": 3,
   "metadata": {},
   "outputs": [],
   "source": [
    "fs = 44100\n",
    "duration = 5\n",
    "recorded_data = sd.rec(samplerate=fs, frames=duration*fs, channels=1)\n",
    "sd.wait()\n",
    "#sd.play(recorded_data, samplerate=fs)\n",
    "#sd.wait()\n",
    "timer = time.perf_counter()\n",
    "sf.write(data=recorded_data, file=str(str(timer) + '.wav'), samplerate=fs)"
   ]
  },
  {
   "cell_type": "code",
   "execution_count": 3,
   "metadata": {},
   "outputs": [
    {
     "data": {
      "text/plain": [
       "<_io.BufferedRandom name='song.wav'>"
      ]
     },
     "execution_count": 3,
     "metadata": {},
     "output_type": "execute_result"
    }
   ],
   "source": [
    "sound = pydub.AudioSegment.from_mp3('song.mp3')\n",
    "sound.export('song.wav', format='wav')"
   ]
  },
  {
   "cell_type": "code",
   "execution_count": 4,
   "metadata": {},
   "outputs": [],
   "source": [
    "LEFT = int(fs * 6.4)\n",
    "LEN = fs // 10\n",
    "RIGHT = LEFT + LEN\n",
    "data = sf.read('song.wav')"
   ]
  },
  {
   "cell_type": "code",
   "execution_count": null,
   "metadata": {
    "scrolled": false
   },
   "outputs": [],
   "source": [
    "print(len(data[0]))\n",
    "i = LEFT\n",
    "while i < RIGHT:\n",
    "    if (i - LEFT) % (LEN // 10) == 0:\n",
    "        print((i - LEFT) / LEN * 100, '%')\n",
    "        sys.stdout.flush()\n",
    "    plt.scatter(i / fs, data[0][i][0])\n",
    "    i += 1\n",
    "plt.savefig('pict.png')\n",
    "plt.show()\n"
   ]
  },
  {
   "cell_type": "code",
   "execution_count": null,
   "metadata": {},
   "outputs": [],
   "source": [
    "sd.play(data[0][LEFT : RIGHT], fs)\n",
    "sd.wait()\n",
    "sf.write(data=data[0][LEFT : RIGHT], file='output.wav', samplerate=fs)"
   ]
  },
  {
   "cell_type": "code",
   "execution_count": 7,
   "metadata": {},
   "outputs": [
    {
     "name": "stdout",
     "output_type": "stream",
     "text": [
      "0.125\n"
     ]
    }
   ],
   "source": [
    "sinus_sound = np.ndarray(int(fs * 2 * math.pi))\n",
    "for i in range(0, int(fs * 2* math.pi)):\n",
    "    sinus_sound[i] = math.sin(i / (fs / 10000))\n",
    "    #if i % 100 == 0:\n",
    "        #plt.scatter(i, sinus_sound[i])\n",
    "        #print(i)\n",
    "#print(sinus_sound)\n",
    "#plt.show()"
   ]
  },
  {
   "cell_type": "code",
   "execution_count": 3,
   "metadata": {},
   "outputs": [
    {
     "name": "stderr",
     "output_type": "stream",
     "text": [
      "c:\\users\\kikos\\appdata\\local\\programs\\python\\python37\\lib\\site-packages\\ipykernel_launcher.py:2: DeprecationWarning: time.clock has been deprecated in Python 3.3 and will be removed from Python 3.8: use time.perf_counter or time.process_time instead\n",
      "  \n"
     ]
    },
    {
     "name": "stdout",
     "output_type": "stream",
     "text": [
      "1.000237876\n"
     ]
    },
    {
     "name": "stderr",
     "output_type": "stream",
     "text": [
      "c:\\users\\kikos\\appdata\\local\\programs\\python\\python37\\lib\\site-packages\\ipykernel_launcher.py:6: DeprecationWarning: time.clock has been deprecated in Python 3.3 and will be removed from Python 3.8: use time.perf_counter or time.process_time instead\n",
      "  \n"
     ]
    },
    {
     "name": "stdout",
     "output_type": "stream",
     "text": [
      "1.999367927999998\n",
      "3.000680779000003\n",
      "4.000875989000001\n",
      "4.999661687\n",
      "6.000591669999999\n",
      "7.000293003000003\n",
      "8.000088730999998\n",
      "8.999876530999998\n"
     ]
    },
    {
     "ename": "NameError",
     "evalue": "name 'sinus_sound' is not defined",
     "output_type": "error",
     "traceback": [
      "\u001b[1;31m---------------------------------------------------------------------------\u001b[0m",
      "\u001b[1;31mNameError\u001b[0m                                 Traceback (most recent call last)",
      "\u001b[1;32m<ipython-input-3-cc856a7a385d>\u001b[0m in \u001b[0;36m<module>\u001b[1;34m()\u001b[0m\n\u001b[0;32m      7\u001b[0m     \u001b[0mprint\u001b[0m\u001b[1;33m(\u001b[0m\u001b[0mfinish_time\u001b[0m \u001b[1;33m-\u001b[0m \u001b[0mstart_time\u001b[0m\u001b[1;33m)\u001b[0m\u001b[1;33m\u001b[0m\u001b[0m\n\u001b[0;32m      8\u001b[0m     \u001b[0msys\u001b[0m\u001b[1;33m.\u001b[0m\u001b[0mstdout\u001b[0m\u001b[1;33m.\u001b[0m\u001b[0mflush\u001b[0m\u001b[1;33m(\u001b[0m\u001b[1;33m)\u001b[0m\u001b[1;33m\u001b[0m\u001b[0m\n\u001b[1;32m----> 9\u001b[1;33m \u001b[0msf\u001b[0m\u001b[1;33m.\u001b[0m\u001b[0mwrite\u001b[0m\u001b[1;33m(\u001b[0m\u001b[0mdata\u001b[0m\u001b[1;33m=\u001b[0m\u001b[0msinus_sound\u001b[0m\u001b[1;33m,\u001b[0m \u001b[0mfile\u001b[0m\u001b[1;33m=\u001b[0m\u001b[1;34m'sinus.wav'\u001b[0m\u001b[1;33m,\u001b[0m \u001b[0msamplerate\u001b[0m\u001b[1;33m=\u001b[0m\u001b[0mfs\u001b[0m\u001b[1;33m)\u001b[0m\u001b[1;33m\u001b[0m\u001b[0m\n\u001b[0m",
      "\u001b[1;31mNameError\u001b[0m: name 'sinus_sound' is not defined"
     ]
    }
   ],
   "source": [
    "for i in range(1, 10):\n",
    "    start_time = time.clock()\n",
    "    sd.play(sinus_sound, fs)\n",
    "    sd.wait()\n",
    "    time.sleep(10)\n",
    "    finish_time = time.clock()\n",
    "    print(finish_time - start_time)\n",
    "    sys.stdout.flush()\n",
    "sf.write(data=sinus_sound, file='sinus.wav', samplerate=fs)"
   ]
  },
  {
   "cell_type": "code",
   "execution_count": 4,
   "metadata": {
    "scrolled": true
   },
   "outputs": [
    {
     "name": "stdout",
     "output_type": "stream",
     "text": [
      "1591.5494309189535\n"
     ]
    }
   ],
   "source": [
    "L = 2 * math.pi\n",
    "num = 10000;\n",
    "hertz = num / L\n",
    "print(hertz)"
   ]
  }
 ],
 "metadata": {
  "kernelspec": {
   "display_name": "Python 3",
   "language": "python",
   "name": "python3"
  },
  "language_info": {
   "codemirror_mode": {
    "name": "ipython",
    "version": 3
   },
   "file_extension": ".py",
   "mimetype": "text/x-python",
   "name": "python",
   "nbconvert_exporter": "python",
   "pygments_lexer": "ipython3",
   "version": "3.7.0b2"
  }
 },
 "nbformat": 4,
 "nbformat_minor": 2
}
