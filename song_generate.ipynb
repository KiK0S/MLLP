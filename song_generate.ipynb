{
 "cells": [
  {
   "cell_type": "code",
   "execution_count": 1,
   "metadata": {},
   "outputs": [],
   "source": [
    "import numpy as np\n",
    "import matplotlib.pyplot as plt\n",
    "import math\n",
    "import random\n",
    "import time\n",
    "import sys\n",
    "import sounddevice as sd\n",
    "import soundfile as sf\n",
    "from pydub import AudioSegment\n",
    "fs = 44100\n",
    "onelen = 2\n",
    "note = [\n",
    "    [0, 0, 0, 0, 0, 0, 0, 0, 0, 0, 0, 0, 0],\n",
    "    [130, 138, 147, 155, 164, 174, 185,196, 207, 220, 233, 246],\n",
    "    [263, 277, 293, 311, 329, 349, 369, 392, 415, 440, 466, 493, 0],\n",
    "    [523, 554, 587, 622, 659, 698, 739, 784, 830, 880, 932, 987, 0],\n",
    "    [1046, 1108, 1174, 1244, 1318, 1396, 1480, 1568, 1661, 1720, 1864, 1975, 0]\n",
    "]\n",
    "names = {\n",
    "    'c': 0,\n",
    "    'c#': 1,\n",
    "    'd': 2,\n",
    "    'd#': 3,\n",
    "    'e': 4,\n",
    "    'f': 5,\n",
    "    'f#': 6,\n",
    "    'g': 7,\n",
    "    'g#': 8,\n",
    "    'a': 9,\n",
    "    'b': 10,\n",
    "    'h': 11,\n",
    "    '-': 12\n",
    "}"
   ]
  },
  {
   "cell_type": "code",
   "execution_count": 2,
   "metadata": {},
   "outputs": [
    {
     "name": "stdout",
     "output_type": "stream",
     "text": [
      "323 325 323\n"
     ]
    }
   ],
   "source": [
    "song = [\n",
    "    [0, '-'], [0, '-'], [0, '-'], [0, '-'], [2, 'd#'],\n",
    "    [2, 'e'], [0, '-'], [2, 'f#'], [2, 'g'], [0, '-'], [2, 'd#'],\n",
    "    [2, 'e'], [2, 'f#'], [2, 'g'], [3, 'c'], [2, 'h'], [2, 'e'], [2, 'g'], [2, 'h'],\n",
    "    [2, 'b'], [2, 'h'], [2, 'a'], [2, 'g'], [2, 'e'], [2, 'd'], [2, 'e'], [2, 'e'], \n",
    "    [0, '-'], [0, '-'], [2, 'd#'], [2, 'e'], [0, '-'], [2, 'f#'], [2, 'g'], [0, '-'], \n",
    "    [2, 'd#'], [2, 'e'], [2, 'f#'], [2, 'g'], [3, 'c'], [2, 'h'], [2, 'g'], [2, 'h'], [3, 'e'], [3, 'd#'],\n",
    "    [3, 'e'], [0, '-'], [0, '-'], [2, 'd#'], [2, 'e'], [0, '-'], [2, 'f#'], [2, 'g'], [0, '-'], [2, 'd#'],\n",
    "    [2, 'e'], [2, 'f#'], [2, 'g'], [3, 'c'], [2, 'h'], [2, 'e'], [2, 'g'], [2, 'h'], [2, 'b'],\n",
    "    [2, 'b'], [2, 'a'], [2, 'g'], [2, 'e'], [2, 'd'], [2, 'e'], [2, 'e'], [0, '-'], [0, '-'],\n",
    "    [0, '-'], [3, 'e'], [3, 'd'], [2, 'h'], [2, 'a'], [2, 'g'], [2, 'e'], \n",
    "    [2, 'b'], [2, 'a'], [2, 'h'], [2, 'a'], [2, 'h'], [2, 'a'], [2, 'h'], [2, 'a'],\n",
    "    [2, 'g'], [2, 'e'], [2, 'd'], [2, 'e'], [2, 'e'], [2, 'e'], [2, 'e'],\n",
    "    [2, 'g'], [2, 'e'], [2, 'd'], [2, 'e'], [2, 'e'], [2, 'e'], [2, 'e'],\n",
    "    [2, 'g'], [2, 'e'], [2, 'd'], [2, 'e'], [2, 'e'], [2, 'e'], [2, 'e'],\n",
    "    [0, '-'], [0, '-'], [3, 'd#'], [3, 'e'], [0, '-'], [3, 'f#'], [3, 'g'],\n",
    "    [0, '-'], [3, 'd#'], [3, 'e'], [3, 'f#'], [3, 'g'], [4, 'c'], [3, 'h'],\n",
    "    [3, 'e'], [3, 'g'], [3, 'h'], [3, 'b'],\n",
    "    [3, 'h'], [3, 'a'], [3, 'g'], [3, 'e'], [3, 'd'], [3, 'e'],\n",
    "    [3, 'e'], [0, '-'], [0, '-'], [3, 'd#'], [3, 'e'], [0, '-'], [3, 'f#'], [3, 'g'], [0, '-'], \n",
    "    [3, 'd#'], [3, 'e'], [3, 'f#'], [3, 'g'], [4, 'c'], [3, 'h'], [3, 'g'], [3, 'h'], [4, 'e'], \n",
    "    [4, 'd#'], [4, 'e'], [0, '-'], [0, '-'], [3, 'd#'], [3, 'e'], [0, '-'], [3, 'f#'], [3, 'g'], [0, '-'], \n",
    "    [3, 'd#'], [3, 'e'], [3, 'f#'], [3, 'g'], [4, 'c'], [3, 'h'], [3, 'e'], [3, 'g'], [3, 'h'], [3, 'b'],\n",
    "    [3, 'h'], [3, 'f'], [3, 'g'], [3, 'e'], [3, 'd'], [3, 'e'], [3, 'e'],\n",
    "    [0, '-'], [0, '-'], [0, '-'], [3, 'e'], [3, 'd'], [2, 'h'], [2, 'f'], [2, 'g'], [2, 'e'],\n",
    "    [2, 'b'], [2, 'a'], [2, 'h'], [2, 'a'], [2, 'h'], [2, 'a'], [2, 'h'], [2, 'a'],\n",
    "    [2, 'g'], [2, 'e'], [2, 'd'], [2, 'e'], [2, 'e'], [2, 'e'], [2, 'e'],\n",
    "    [2, 'g'], [2, 'e'], [2, 'd'], [2, 'e'], [2, 'e'], [2, 'e'], [2, 'e'],\n",
    "    [2, 'g'], [2, 'e'], [2, 'd'], [2, 'e'], [2, 'e'], [2, 'e'], [2, 'e'],\n",
    "    \n",
    "    \n",
    "    [0, '-'], [0, '-'], [2, 'd#'], [2, 'e'], [0, '-'], [2, 'f#'],[2, 'g'], [0, '-'], \n",
    "    [2, 'd#'], [2, 'e'], [2, 'f#'], [2, 'g'], [3, 'c'], [2, 'h'], [2, 'e'], [2, 'g'], [2, 'h'],\n",
    "    [2, 'b'], [2, 'h'], [2, 'a'], [2, 'g'], [2, 'e'], [2, 'd'], [2, 'e'], [2, 'e'],\n",
    "    [0, '-'], [0, '-'], [2, 'd#'], [2, 'e'], [0, '-'], [2, 'f#'], [2, 'g'], [0, '-'],\n",
    "    [2, 'd#'], [2, 'e'], [2, 'f#'], [2, 'g'], [3, 'c'], [2, 'h'], [2, 'a'], [2, 'h'], [3, 'e'], [3, 'd#'],\n",
    "    [3, 'e'], [0, '-'], [0, '-'], [2, 'd#'], [2, 'e'], [0, '-'], [2, 'f#'], [2, 'g'], [0, '-'], \n",
    "    [2, 'd#'], [2, 'e'], [2, 'f#'], [2, 'g'], [3, 'c'], [2, 'h'], [2, 'e'], [2, 'g'], [2, 'h'], \n",
    "    [2, 'b'], [2, 'h'], [2, 'a'], [2, 'g'], [2, 'e'], [2, 'd'], [2, 'e'], [2, 'e'], [0, '-'], [0, '-'],\n",
    "    [0, '-'], [3, 'e'], [2, 'd'], [2, 'h'], [2, 'a'], [2, 'e'], \n",
    "    [2, 'b'], [2, 'a'], [2, 'h'], [2, 'a'], [2, 'h'], [2, 'a'], [2, 'h'], [2, 'a'],\n",
    "    [2, 'g'], [2, 'e'], [2, 'd'], [2, 'e'], [2, 'e'], [2, 'e'], [2, 'e'],\n",
    "    [2, 'g'], [2, 'e'], [2, 'd'], [2, 'e'], [2, 'e'], [2, 'e'], [2, 'e'],\n",
    "    [2, 'g'], [2, 'e'], [2, 'd'], [2, 'e'], [2, 'e'], [2, 'e'], [2, 'e'],\n",
    "\n",
    "    [0, '-']\n",
    "]\n",
    "\n",
    "start = [\n",
    "    0, 0.25, 0.5, 0.75, 0.875,\n",
    "    1, 1.25, 1.375, 1.5, 1.75, 1.875,\n",
    "    2, 2.125, 2.25, 2.375, 2.5, 2.625, 2.75, 2.875,\n",
    "    3, 3.5, 3.5833, 3.6666, 3.75, 3.8333, 3.9163, 4,\n",
    "    4.5, 4.75, 4.875, 5, 5.25, 5.325, 5.5, 5.75,\n",
    "    5.825, 6, 6.125, 6.25, 6.375, 6.5, 6.625, 6.75, 6.875, 7,\n",
    "    8, 8.5, 8.75, 8.825, 9, 9.25, 9.375, 9.5, 9.75, 9.875,\n",
    "    10, 10.125, 10.25, 10.375, 10.5, 10.625, 10.75, 10.875, 11,\n",
    "    11.5, 11.5833, 11.6666, 11.75, 11.8333, 11.9163, 12, 12.5, 12.75,\n",
    "    13, 13.25, 13.375, 13.5, 13.625, 13.75, 13.875, \n",
    "    14, 14.125, 14.25, 14.375, 14.5, 14.625, 14.75, 14.875,\n",
    "    15, 15.0833, 15.1666, 15.25, 15.375, 15.5, 16,\n",
    "    17, 17.0833, 17.1666, 17.25, 17.275, 17.5, 18,\n",
    "    19, 19.0833, 19.1666, 19.25, 19.275, 19.5, 20,\n",
    "    20.5, 20.75, 20.875, 21, 21.25, 21.375, 21.5, \n",
    "    21.75, 21.875, 22, 22.125, 22.25, 22.375, 22.5, \n",
    "    22.625, 22.75, 22.875, 23,\n",
    "    23.5, 23.5833, 23.6666, 23.75, 23.8333, 23.9163, \n",
    "    24, 24.5, 24.75, 24.875, 25, 25.25, 25.375, 25.5, 25.75, \n",
    "    25.875, 26, 26.125, 26.25, 26.375, 26.5, 26.625, 26.75, 26.875, \n",
    "    27, 28, 28.5, 28.75, 28.875, 29, 29.25, 29.375, 29.5, 29.75,\n",
    "    29.875, 30, 30.125, 30.25, 30.375, 30.5, 30.625, 30.75, 30.825, 31,\n",
    "    31.5, 31.5833, 31.6666, 31.75, 31.875, 31.9163, 32, \n",
    "    32.5, 32.75, 33, 33.25, 33.375, 33.5, 33.625, 33.75, 33.875, \n",
    "    34, 34.125, 34.25, 34.375, 34.5, 34.625, 34.75, 34.875,\n",
    "    35, 35.0833, 35.1666, 35.25, 35.375, 35.5, 36, \n",
    "    37, 37.0833, 37.1666, 37.25, 37.375, 37.5, 38,\n",
    "    39, 39.0833, 39.1666, 39.25, 39.375, 39.5, 40,\n",
    "    \n",
    "    40.5, 40.75, 40.875, 41, 41.25, 41.375, 41.5, 41.75,\n",
    "    41.875, 42, 42.125, 42.25, 42.375, 42.5, 42.625, 42.75, 42.875, 43,\n",
    "    44, 44.5, 44.5833, 44.6666, 44.75, 44.8333, 44.9163, 45, \n",
    "    45.5, 45.75, 45.875, 46, 46.25, 46.375, 46.5, 46.75, \n",
    "    46.875, 47, 47.125, 47.25, 47.375, 47.5, 47.625, 47.75, 47.875, 48,\n",
    "    49, 49.5, 49.75, 49.875, 50, 50.25, 50.375, 50.5, 50.75, \n",
    "    50.875, 51, 51.125, 51.25, 51.375, 51.5, 51.625, 51.75, 51.875, \n",
    "    52, 52.5, 52.5833, 52.6666, 52.75, 52.8333, 52.9163, 53, 53.5, 53.75,\n",
    "    54, 54.25, 54.375, 54.5, 54.625, 54.75, 54.875, \n",
    "    55, 55.125, 55.25, 55.375, 55.5, 55.625, 55.75, 55.875,\n",
    "    56, 56.0833, 56.1666, 56.25, 56.375, 56.5, 57,\n",
    "    58, 58.0833, 58.1666, 58.25, 58.375, 58.5, 59,\n",
    "    60, 60.0833, 60.1666, 60.25, 60.375, 60.5, 61,\n",
    "    61.5\n",
    "]\n",
    "\n",
    "durations = [\n",
    "    0.25, 0.25, 0.25, 0.125, 0.125,\n",
    "    0.25, 0.125, 0.125, 0.25, 0.125, 0.125,\n",
    "    0.25, 0.125, 0.25, 0.125, 0.25, 0.125, 0.25, 0.125,\n",
    "    0.5, 0.125, 0.125, 0.125, 0.125, 0.125, 0.125, 0.5, \n",
    "    0.25, 0.125, 0.125, 0.25, 0.125, 0.125, 0.25, 0.125,\n",
    "    0.125, 0.25, 0.125, 0.25, 0.125, 0.25, 0.125, 0.25, 0.125, 1,\n",
    "    0.5, 0.25, 0.125, 0.125, 0.25, 0.125, 0.125, 0.25, 0.125, 0.125, \n",
    "    0.25, 0.125, 0.25, 0.125, 0.25, 0.125, 0.25, 0.125, 0.5,\n",
    "    0.125, 0.125, 0.125, 0.125, 0.125, 0.125, 0.5, 0.25, 0.25,\n",
    "    0.25, 0.25, 0.125, 0.25, 0.125, 0.25, 0.125,\n",
    "    0.0625, 0.125, 0.0625, 0.125, 0.0625, 0.125, 0.0625, 0.125,\n",
    "    0.125, 0.125, 0.125, 0.25, 0.125, 0.5, 1,\n",
    "    0.125, 0.125, 0.125, 0.25, 0.125, 0.5, 1,\n",
    "    0.125, 0.125, 0.125, 0.25, 0.125, 0.5, 0.5,\n",
    "    0.25, 0.125, 0.125, 0.25, 0.125, 0.125, 0.25,\n",
    "    0.125, 0.125, 0.25, 0.125, 0.25, 0.125, 0.25,\n",
    "    0.125, 0.25, 0.125, 0.5,\n",
    "    0.125, 0.125, 0.125, 0.125, 0.125, 0.125, \n",
    "    0.5, 0.25, 0.125, 0.125, 0.25, 0.125, 0.125, 0.25, 0.125,\n",
    "    0.125, 0.25, 0.125, 0.25, 0.125, 0.25, 0.125, 0.25, 0.125,\n",
    "    1, 0.5, 0.25, 0.125, 0.125, 0.25, 0.125, 0.125, 0.25, 0.125,\n",
    "    0.125, 0.25, 0.125, 0.25, 0.125, 0.25, 0.125, 0.25, 0.125, 0.5,\n",
    "    0.125, 0.125, 0.125, 0.125, 0.125, 0.125, 0.5, \n",
    "    0.25, 0.25, 0.25, 0.25, 0.125, 0.25, 0.125, 0.25, 0.125,\n",
    "    0.0625, 0.125, 0.0625, 0.125, 0.0625, 0.125, 0.0625, 0.125,\n",
    "    0.125, 0.125, 0.125, 0.25, 0.125, 0.5, 1,\n",
    "    0.125, 0.125, 0.125, 0.25, 0.125, 0.5, 1,\n",
    "    0.125, 0.125, 0.125, 0.25, 0.125, 0.5, 0.5,\n",
    "    \n",
    "    0.25, 0.125, 0.125, 0.25, 0.125, 0.125, 0.25, 0.125, \n",
    "    0.125, 0.25, 0.125, 0.25, 0.125, 0.25, 0.125, 0.25, 0.125,\n",
    "    0.5, 0.125, 0.125, 0.125, 0.125, 0.125, 0.125, 0.5,\n",
    "    0.25, 0.125, 0.125, 0.25, 0.125, 0.125, 0.25, 0.125, \n",
    "    0.125, 0.25, 0.125, 0.125, 0.125, 0.125, 0.125, 0.125, 1,\n",
    "    0.5, 0.25, 0.125, 0.125, 0.25, 0.125, 0.125, 0.25, 0.125,\n",
    "    0.125, 0.25, 0.125, 0.25, 0.125, 0.25, 0.125, 0.25, 0.125,\n",
    "    0.5, 0.125, 0.125, 0.125, 0.125, 0.125, 0.125, 0.5, 0.25, 0.25,\n",
    "    0.25, 0.25, 0.125, 0.25, 0.125, 0.25, 0.125, \n",
    "    0.0625, 0.125, 0.0625, 0.125, 0.0625, 0.125, 0.0625, 0.125, \n",
    "    0.125, 0.125, 0.125, 0.25, 0.125, 0.5, 1,\n",
    "    0.125, 0.125, 0.125, 0.25, 0.125, 0.5, 1,\n",
    "    0.125, 0.125, 0.125, 0.25, 0.125, 0.5, 0.5,\n",
    "    \n",
    "    \n",
    "    0.1\n",
    "]\n",
    "print(len(song), len(start), len(durations))\n"
   ]
  },
  {
   "cell_type": "code",
   "execution_count": 3,
   "metadata": {},
   "outputs": [
    {
     "name": "stdout",
     "output_type": "stream",
     "text": [
      "5424300\n"
     ]
    }
   ],
   "source": [
    "data = np.ndarray(int(fs * start[len(start) - 1] * onelen))\n",
    "cnt = np.ndarray(int(fs * start[len(start) - 1] * onelen))\n",
    "print(len(data))"
   ]
  },
  {
   "cell_type": "code",
   "execution_count": 4,
   "metadata": {},
   "outputs": [],
   "source": [
    "def play(start, rate, dur):\n",
    "    SZ = int(fs * dur)\n",
    "    while (rate * SZ) % fs != 0:\n",
    "        SZ += 1\n",
    "    volume = 1\n",
    "    for i in range(0, SZ):\n",
    "        data[start + i] += volume * math.sin(2 * math.pi * i * rate / fs)\n",
    "        cnt[start + i] += 1\n",
    "        volume -= 1 / SZ"
   ]
  },
  {
   "cell_type": "code",
   "execution_count": 5,
   "metadata": {},
   "outputs": [],
   "source": [
    "for i in range(0, len(song) - 1):\n",
    "    play(int(start[i] * onelen * fs), note[song[i][0]][names[song[i][1]]], durations[i] * onelen)\n",
    "_max = -100\n",
    "for _ in data:\n",
    "    _max = max(_max, _)\n",
    "for i in range(0, len(data)):\n",
    "    data[i] /= _max\n",
    "    #data[i] = min(data[i], 1)\n",
    "    #data[i] = max(data[i], -1)"
   ]
  },
  {
   "cell_type": "code",
   "execution_count": 6,
   "metadata": {},
   "outputs": [
    {
     "data": {
      "text/plain": [
       "<_io.BufferedRandom name='pink_panther.mp3'>"
      ]
     },
     "execution_count": 6,
     "metadata": {},
     "output_type": "execute_result"
    }
   ],
   "source": [
    "sf.write(data = data, file='pink_panther.wav', samplerate=fs)\n",
    "AudioSegment.from_wav('pink_panther.wav').export('pink_panther.mp3', format='mp3')"
   ]
  },
  {
   "cell_type": "code",
   "execution_count": 7,
   "metadata": {},
   "outputs": [
    {
     "data": {
      "image/png": "[encoded data removed]",
      "text/plain": [
       "<Figure size 432x288 with 1 Axes>"
      ]
     },
     "metadata": {},
     "output_type": "display_data"
    }
   ],
   "source": [
    "fig = plt.figure()\n",
    "plt.plot(data)\n",
    "plt.show()\n",
    "fig.savefig('output.png')"
   ]
  },
  {
   "cell_type": "code",
   "execution_count": 8,
   "metadata": {},
   "outputs": [],
   "source": [
    "#data = np.append(data, data)\n",
    "sd.play(data, fs)\n",
    "sd.wait()"
   ]
  }
 ],
 "metadata": {
  "kernelspec": {
   "display_name": "Python 3",
   "language": "python",
   "name": "python3"
  },
  "language_info": {
   "codemirror_mode": {
    "name": "ipython",
    "version": 3
   },
   "file_extension": ".py",
   "mimetype": "text/x-python",
   "name": "python",
   "nbconvert_exporter": "python",
   "pygments_lexer": "ipython3",
   "version": "3.7.0b2"
  }
 },
 "nbformat": 4,
 "nbformat_minor": 2
}
