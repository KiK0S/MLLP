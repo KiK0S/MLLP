{
 "cells": [
  {
   "cell_type": "code",
   "execution_count": 1,
   "metadata": {},
   "outputs": [],
   "source": [
    "import numpy as np\n",
    "import matplotlib.pyplot as plt\n",
    "import math\n",
    "import random\n",
    "import time\n",
    "import sys\n",
    "import sounddevice as sd\n",
    "import soundfile as sf\n",
    "from pydub import AudioSegment\n",
    "fs = 44100\n",
    "onelen = 2\n",
    "note = [\n",
    "    [0, 0, 0, 0, 0, 0, 0, 0, 0, 0, 0, 0, 0],\n",
    "    [130, 138, 147, 155, 164, 174, 185,196, 207, 220, 233, 246],\n",
    "    [263, 277, 293, 311, 329, 349, 369, 392, 415, 440, 466, 493, 0],\n",
    "    [523, 554, 587, 622, 659, 698, 739, 784, 830, 880, 932, 987, 0]\n",
    "]\n",
    "names = {\n",
    "    'c': 0,\n",
    "    'c#': 1,\n",
    "    'd': 2,\n",
    "    'd#': 3,\n",
    "    'e': 4,\n",
    "    'f': 5,\n",
    "    'f#': 6,\n",
    "    'g': 7,\n",
    "    'g#': 8,\n",
    "    'a': 9,\n",
    "    'b': 10,\n",
    "    'h': 11,\n",
    "    '-': 12\n",
    "}"
   ]
  },
  {
   "cell_type": "code",
   "execution_count": 11,
   "metadata": {},
   "outputs": [],
   "source": [
    "song = [\n",
    "    [0, '-'], [0, '-'], [0, '-'], [0, '-'], [1, 'g'],\n",
    "    [2, 'e'], [0, '-'], [3, 'd'], [2, 'g'], [0, '-'], [1, 'g'],\n",
    "    [2, 'e'], [3, 'd'], [2, 'g'], [3, 'c'], [2, 'h'], [2, 'e'], [2, 'g'], [2, 'h'],\n",
    "    [2, 'b'], [2, 'h'], [2, 'a'], [2, 'g'], [2, 'e'], [2, 'd'], [2, 'e'], [2, 'e'], \n",
    "    [0, '-'], [0, '-'], [1, 'g'], [2, 'e'], [0, '-'], [3, 'd'], [2, 'g'], [0, '-'], \n",
    "    [1, 'g'], [2, 'e'], [3, 'd'], [2, 'g'], [3, 'c'], [2, 'h'], [2, 'g'], [2, 'h'], [3, 'e'], [2, 'f'],\n",
    "    [0, '-']\n",
    "]\n",
    "\n",
    "start = [\n",
    "    0, 0.25, 0.5, 0.75, 0.875, \n",
    "    1, 1.25, 1.375, 1.5, 1.75, 1.875, \n",
    "    2, 2.125, 2.25, 2.375, 2.5, 2.625, 2.75, 2.875, \n",
    "    3, 3.5, 3.5832, 3.6664, 3.7496, 3.8328, 3.9160, 3.9992, \n",
    "    4.5, 4.75, 4.875, 5, 5.25, 5.325, 5.5, 5.75, \n",
    "    5.825, 6, 6.125, 6.25, 6.375, 6.5, 6.625, 6.75, 6.875, 7,\n",
    "    8\n",
    "]\n",
    "\n",
    "durations = [\n",
    "    0.25, 0.25, 0.25, 0.125, 0.125,\n",
    "    0.25, 0.125, 0.125, 0.25, 0.125, 0.125,\n",
    "    0.25, 0.125, 0.25, 0.125, 0.25, 0.125, 0.25, 0.125,\n",
    "    0.5, 0.125, 0.125, 0.125, 0.125, 0.125, 0.125, 0.5, \n",
    "    0.25, 0.125, 0.125, 0.25, 0.125, 0.125, 0.25, 0.125,\n",
    "    0.125, 0.25, 0.125, 0.25, 0.125, 0.25, 0.125, 0.25, 0.125, 1,\n",
    "    0.1\n",
    "]\n"
   ]
  },
  {
   "cell_type": "code",
   "execution_count": 12,
   "metadata": {},
   "outputs": [
    {
     "name": "stdout",
     "output_type": "stream",
     "text": [
      "1411200\n"
     ]
    }
   ],
   "source": [
    "data = np.ndarray(int(fs * start[len(start) - 1] * onelen * 2))\n",
    "cnt = np.ndarray(int(fs * start[len(start) - 1] * onelen * 2))\n",
    "print(len(data))"
   ]
  },
  {
   "cell_type": "code",
   "execution_count": 13,
   "metadata": {},
   "outputs": [],
   "source": [
    "def play(start, rate, dur):\n",
    "    SZ = int(fs * dur)\n",
    "    while (rate * SZ) % fs != 0:\n",
    "        SZ += 1\n",
    "    volume = 1\n",
    "    for i in range(0, SZ):\n",
    "        data[start + i] += volume * math.sin(2 * math.pi * i * rate / fs)\n",
    "        cnt[start + i] += 1\n",
    "        volume -= 1 / SZ"
   ]
  },
  {
   "cell_type": "code",
   "execution_count": 14,
   "metadata": {},
   "outputs": [],
   "source": [
    "for i in range(0, len(song) - 1):\n",
    "    play(int(start[i] * onelen * fs), note[song[i][0]][names[song[i][1]]], durations[i] * onelen)\n",
    "_max = -100\n",
    "for _ in data:\n",
    "    _max = max(_max, _)\n",
    "for i in range(0, len(data)):\n",
    "    data[i] /= _max\n",
    "    #data[i] = min(data[i], 1)\n",
    "    #data[i] = max(data[i], -1)"
   ]
  },
  {
   "cell_type": "code",
   "execution_count": 15,
   "metadata": {},
   "outputs": [
    {
     "data": {
      "text/plain": [
       "<_io.BufferedRandom name='pink_panther.mp3'>"
      ]
     },
     "execution_count": 15,
     "metadata": {},
     "output_type": "execute_result"
    }
   ],
   "source": [
    "sd.play(data, fs)\n",
    "sf.write(data = data, file='pink_panther.wav', samplerate=fs)\n",
    "AudioSegment.from_wav('pink_panther.wav').export('pink_panther.mp3', format='mp3')"
   ]
  },
  {
   "cell_type": "code",
   "execution_count": 7,
   "metadata": {},
   "outputs": [
    {
     "data": {
      "image/png": "[encoded data removed]",
      "text/plain": [
       "<Figure size 432x288 with 1 Axes>"
      ]
     },
     "metadata": {},
     "output_type": "display_data"
    }
   ],
   "source": [
    "fig = plt.figure()\n",
    "plt.plot(data)\n",
    "plt.show()\n",
    "\n",
    "fig.savefig('output.png')"
   ]
  },
  {
   "cell_type": "code",
   "execution_count": 10,
   "metadata": {},
   "outputs": [],
   "source": [
    "#data = np.append(data, data)\n",
    "sd.play(data, fs)\n",
    "sd.wait()"
   ]
  }
 ],
 "metadata": {
  "kernelspec": {
   "display_name": "Python 3",
   "language": "python",
   "name": "python3"
  },
  "language_info": {
   "codemirror_mode": {
    "name": "ipython",
    "version": 3
   },
   "file_extension": ".py",
   "mimetype": "text/x-python",
   "name": "python",
   "nbconvert_exporter": "python",
   "pygments_lexer": "ipython3",
   "version": "3.7.0b2"
  }
 },
 "nbformat": 4,
 "nbformat_minor": 2
}
